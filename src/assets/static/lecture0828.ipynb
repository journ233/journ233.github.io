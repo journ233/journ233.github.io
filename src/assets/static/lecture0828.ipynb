{
 "cells": [
  {
   "cell_type": "markdown",
   "id": "d5aceb10-2dc9-498a-9582-89ae328be6d3",
   "metadata": {
    "tags": []
   },
   "source": [
    "# Lecture 2023-08-28"
   ]
  },
  {
   "cell_type": "markdown",
   "id": "718c35cc-55c3-4cdd-af51-1059a142b2cd",
   "metadata": {},
   "source": [
    "## JupyterLab and Jupyter Desktop\n",
    "\n",
    "What's the difference between JupyterLab and Jupyter Desktop?\n",
    "\n",
    "**JupyterLab** is a Python environment to make notebooks. You can split your code and comments into blocks.\n",
    "\n",
    "**Jupyter Desktop** is a desktop application that runs JupyterLab.\n",
    "\n",
    "## How to use JupyterLab\n",
    "\n",
    "Let's explore.\n",
    "\n",
    "1. Look through the menu options.\n",
    "2. Create a new cell by clicking on the `+` button in the bar above. Then use the dropdown to change `Code` to `Markdown`, or keep it on `Code` when you're writing code.\n",
    "3. \"Play\" or run a cell.\n",
    "\n",
    "You'll continue to learn JupyterLab throughout the semester."
   ]
  },
  {
   "cell_type": "markdown",
   "id": "c26b8f6c-b711-453c-ae39-922ab33db520",
   "metadata": {},
   "source": [
    "## Markdown\n",
    "\n",
    "Markdown is a mark-up language (other mark-up languages you might be familar with are HTML and LaTeX).\n",
    "\n",
    "Double click on any markdown cell in this notebook to see the \"raw\" markdown. How do you know which cells are markdown cells?\n",
    "\n",
    "What do you notice?\n",
    "\n",
    "### Commonly used markdown formats\n",
    "\n",
    "- Headlines and subheds start with `# `, `## `, all the way up to 6 `#` signs.\n",
    "- You can make a list by starting a line with `- `.\n",
    "- You can  **bold** text using double asterisks, like `**text**`.\n",
    "- You can _italicize_ text using underscores, like `_text_`.\n",
    "\n",
    "> Make a blockquote using `> `.\n",
    "\n",
    "[More on Markdown here.](https://www.markdownguide.org/basic-syntax/)"
   ]
  },
  {
   "cell_type": "markdown",
   "id": "7cb6dea4-535d-4e77-8659-307a89e9757f",
   "metadata": {},
   "source": [
    "### In-class assignment\n",
    "\n",
    "Format the following text using Markdown."
   ]
  },
  {
   "cell_type": "markdown",
   "id": "27765630",
   "metadata": {},
   "source": [
    "This Is a Headline. This Is a Subhed. First item. Second item. Third item. Here's a quote: \"I am very tired.\""
   ]
  },
  {
   "cell_type": "markdown",
   "id": "14930636-ba5d-4eb8-be80-16fc783172e2",
   "metadata": {},
   "source": [
    "## Intro to Python (and programming in general)\n",
    "\n",
    "### Use `print()` to say something\n",
    "\n",
    "The first thing you learn in pretty much every coding language is how to print something. And usually that something is \"Hello, world.\""
   ]
  },
  {
   "cell_type": "code",
   "execution_count": null,
   "id": "54dd4870-67f8-43bd-9e71-f06deddbfd9f",
   "metadata": {},
   "outputs": [],
   "source": [
    "print('Hello, world')"
   ]
  },
  {
   "cell_type": "markdown",
   "id": "7a308039-7845-4eb3-b70c-5316e1055e2c",
   "metadata": {},
   "source": [
    "Some things to notice here: you can use single quotes or double quotes.  \n",
    "Try printing something below."
   ]
  },
  {
   "cell_type": "code",
   "execution_count": null,
   "id": "8806a5ad-dd46-42c7-9eac-04ed25ba00b6",
   "metadata": {},
   "outputs": [],
   "source": []
  },
  {
   "cell_type": "markdown",
   "id": "ac4aed45-260b-4767-aaaa-0d998e0ac104",
   "metadata": {},
   "source": [
    "By the way, all that stuff that went inside those single or double quotes is called a \"string.\" For now, you can say a string s a sequence of characters wrapped in quotation marks.\n",
    "\n",
    "We'll learn more about strings later."
   ]
  },
  {
   "cell_type": "markdown",
   "id": "b39e9025-f8ac-4835-95cb-86dbeecd5901",
   "metadata": {},
   "source": [
    "### Code comments\n",
    "\n",
    "Python code will not execute if you use `#`. You can comment out a line of code using the hotkey `command` + `forward slash`.\n",
    "\n",
    "Try running the line code below:"
   ]
  },
  {
   "cell_type": "code",
   "execution_count": null,
   "id": "da92b270-1417-4296-86ef-1d04a6bdc484",
   "metadata": {},
   "outputs": [],
   "source": [
    "# print('Hello, world')"
   ]
  },
  {
   "cell_type": "markdown",
   "id": "8a9267e0-512b-459c-830d-a5fef1ab8aca",
   "metadata": {},
   "source": [
    "Nothing prints out, right?  \n",
    "You can start a comment at the end of a line, too!"
   ]
  },
  {
   "cell_type": "code",
   "execution_count": null,
   "id": "817d0ce1-a890-4d99-9cf8-c053157f9f4d",
   "metadata": {},
   "outputs": [],
   "source": [
    "print('Hello, world') # Like so."
   ]
  },
  {
   "cell_type": "markdown",
   "id": "a7df1dc4-8e59-43e2-9c18-efe7a00f850b",
   "metadata": {},
   "source": [
    "Of course, only what's inside the `print()` function actually prints. The comment doesn't display.\n",
    "\n",
    "So what would we do if we wanted to ask a user to give their name so we could say Hello to them? We're going to need variables and the `input()` function.\n",
    "\n",
    "### Variables and the assignment operator\n",
    "\n",
    "What is a variable? It's a name that stores a value.\n",
    "\n",
    "We assign values to variables using the equal sign: `=`."
   ]
  },
  {
   "cell_type": "code",
   "execution_count": null,
   "id": "0be00179-3e33-4cee-aee4-db475d321d5e",
   "metadata": {},
   "outputs": [],
   "source": [
    "lecturer_name = 'Soo'\n",
    "lecturer_name"
   ]
  },
  {
   "cell_type": "markdown",
   "id": "9785bede-9508-43ca-a0e0-8db1257bc33e",
   "metadata": {},
   "source": [
    "### Variable naming conventions\n",
    "\n",
    "- You can't use periods in Python variables (different from R).\n",
    "- Python style for stringing multiple words into one variable is called \"snake-case\" (the underscore is like a snake).\n",
    "- All-capped variables denote constants, or variables that don’t change (it’s a style across programming languages).\n",
    "- Variables that start with an uppercase letter denote a class — don’t use them for now.\n",
    "- For now, start each variable with a lowercase letter.\n",
    "\n",
    "You also cannot use any of the following keywords as variable names:\n",
    "\n",
    "```python\n",
    "False None True __peg_parser__ and as assert async await break class continue def del elif else except finally for from global if import in is lambda nonlocal not or pass raise return try while with yield\n",
    "```\n",
    "\n",
    "By the way, double click on this cell to see how I formatted the above block!"
   ]
  },
  {
   "cell_type": "markdown",
   "id": "630b12ae-342e-4e4a-88e2-a4f7cbb042eb",
   "metadata": {},
   "source": [
    "### String interpolation / f-strings\n",
    "\n",
    "When you want to insert the value of a variable into a phrase, you use \"string interpolation\" or \"f-strings\":"
   ]
  },
  {
   "cell_type": "code",
   "execution_count": null,
   "id": "b9e3b513-f92a-4cc3-bcf7-cbcdc41ab2bd",
   "metadata": {},
   "outputs": [],
   "source": [
    "print(f'Hello, { lecturer_name }.')"
   ]
  },
  {
   "cell_type": "markdown",
   "id": "31b4cb91",
   "metadata": {},
   "source": [
    "Try setting a variable and then printing it below:"
   ]
  },
  {
   "cell_type": "code",
   "execution_count": null,
   "id": "82f5b071-4ef9-43b1-9c2c-0acdf18efabc",
   "metadata": {},
   "outputs": [],
   "source": []
  },
  {
   "cell_type": "markdown",
   "id": "8a93d741-b750-4037-bcc6-13ec417b0640",
   "metadata": {},
   "source": [
    "### Use `input()` to query the user and store a value"
   ]
  },
  {
   "cell_type": "code",
   "execution_count": null,
   "id": "5f1531ad-40e8-4ee5-8f20-a1b2dad33368",
   "metadata": {},
   "outputs": [],
   "source": [
    "your_name = input('Enter your name and hit \"ENTER\": ')"
   ]
  },
  {
   "cell_type": "code",
   "execution_count": null,
   "id": "51079c33-1e8d-4f15-a658-be4ce00cce86",
   "metadata": {},
   "outputs": [],
   "source": [
    "print(f'Hello, { your_name }.')"
   ]
  },
  {
   "cell_type": "markdown",
   "id": "5ff088ac-642f-4b7e-93ae-78b2afcf4ece",
   "metadata": {},
   "source": [
    "## Clearing kernel\n",
    "\n",
    "What happens to the variables when you 'clear the kernel'?"
   ]
  }
 ],
 "metadata": {
  "kernelspec": {
   "display_name": "Python 3 (ipykernel)",
   "language": "python",
   "name": "python3"
  },
  "language_info": {
   "codemirror_mode": {
    "name": "ipython",
    "version": 3
   },
   "file_extension": ".py",
   "mimetype": "text/x-python",
   "name": "python",
   "nbconvert_exporter": "python",
   "pygments_lexer": "ipython3",
   "version": "3.8.17"
  },
  "varInspector": {
   "cols": {
    "lenName": 16,
    "lenType": 16,
    "lenVar": 40
   },
   "kernels_config": {
    "python": {
     "delete_cmd_postfix": "",
     "delete_cmd_prefix": "del ",
     "library": "var_list.py",
     "varRefreshCmd": "print(var_dic_list())"
    },
    "r": {
     "delete_cmd_postfix": ") ",
     "delete_cmd_prefix": "rm(",
     "library": "var_list.r",
     "varRefreshCmd": "cat(var_dic_list()) "
    }
   },
   "types_to_exclude": [
    "module",
    "function",
    "builtin_function_or_method",
    "instance",
    "_Feature"
   ],
   "window_display": false
  }
 },
 "nbformat": 4,
 "nbformat_minor": 5
}
