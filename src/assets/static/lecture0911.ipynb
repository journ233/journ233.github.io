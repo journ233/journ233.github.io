{
 "cells": [
  {
   "cell_type": "markdown",
   "id": "d8b110b3-633c-4016-b98c-aca3f88ba209",
   "metadata": {},
   "source": [
    "# Lecture 0911\n",
    "\n",
    "Most of today's lecture requires you to watch the presentation slides. But I added some trickier code to play with below."
   ]
  },
  {
   "cell_type": "markdown",
   "id": "fc214416-b2dc-48c4-951d-7d68ff1476d4",
   "metadata": {},
   "source": [
    "## Reassigning values to variables"
   ]
  },
  {
   "cell_type": "code",
   "execution_count": null,
   "id": "cf1828c7-276f-4ffe-9ec2-9cea0e77b398",
   "metadata": {},
   "outputs": [],
   "source": [
    "a = 8\n",
    "b = 1"
   ]
  },
  {
   "cell_type": "code",
   "execution_count": null,
   "id": "9c1f6420-ce25-4492-a678-2caff47eba92",
   "metadata": {},
   "outputs": [],
   "source": [
    "a - b\n",
    "# What is a - b?"
   ]
  },
  {
   "cell_type": "code",
   "execution_count": null,
   "id": "e951c881-4ee7-4cab-a374-4002fbad6775",
   "metadata": {},
   "outputs": [],
   "source": [
    "a = a * 3\n",
    "# What is a?"
   ]
  },
  {
   "cell_type": "code",
   "execution_count": null,
   "id": "3e20f7b5-6cbc-4558-87bf-bdfbc5c98976",
   "metadata": {},
   "outputs": [],
   "source": [
    "a / b\n",
    "# What is a / b?"
   ]
  },
  {
   "cell_type": "markdown",
   "id": "d66d2409-9daa-4ea9-b321-bf2df21c474b",
   "metadata": {},
   "source": [
    "## Functions"
   ]
  },
  {
   "cell_type": "code",
   "execution_count": null,
   "id": "a59b6c1b-a012-4aae-8f13-33b2350cafea",
   "metadata": {},
   "outputs": [],
   "source": [
    "def average(n1, n2):   # parameters\n",
    "    return (n1 + n2)/2"
   ]
  },
  {
   "cell_type": "code",
   "execution_count": null,
   "id": "18665860-f0bc-4d66-93bd-59583b2b04c4",
   "metadata": {},
   "outputs": [],
   "source": [
    "average(2, 6)"
   ]
  }
 ],
 "metadata": {
  "kernelspec": {
   "display_name": "Python 3 (ipykernel)",
   "language": "python",
   "name": "python3"
  },
  "language_info": {
   "codemirror_mode": {
    "name": "ipython",
    "version": 3
   },
   "file_extension": ".py",
   "mimetype": "text/x-python",
   "name": "python",
   "nbconvert_exporter": "python",
   "pygments_lexer": "ipython3",
   "version": "3.8.17"
  }
 },
 "nbformat": 4,
 "nbformat_minor": 5
}
