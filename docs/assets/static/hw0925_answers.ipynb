{
 "cells": [
  {
   "cell_type": "markdown",
   "id": "7e1493e5-7498-4f89-b148-c01c6765915a",
   "metadata": {},
   "source": [
    "# Homework 0925 answers"
   ]
  },
  {
   "cell_type": "markdown",
   "id": "2c3d9e35-aa2b-49b7-8a06-d910ce524509",
   "metadata": {},
   "source": [
    "## Question 1\n",
    "The following code has some errors:\n",
    "\n",
    "```python\n",
    "def voting_age(x):\n",
    "    if x = 17:\n",
    "        return 'Almost there'\n",
    "    else if x > 18:\n",
    "        return True\n",
    "    else\n",
    "        return 'False'\n",
    "```\n",
    "\n",
    "Fix this code to make it work."
   ]
  },
  {
   "cell_type": "code",
   "execution_count": 1,
   "id": "5981f412-6fdf-41ca-9a37-3135c1904ab2",
   "metadata": {},
   "outputs": [],
   "source": [
    "def voting_age(x):\n",
    "    if x == 17: # incorrect equality operator (could also do `if 17 <= x < 18`)\n",
    "        return 'Almost there'\n",
    "    elif x >= 18: # change else if to elif, operator to >=\n",
    "        return True\n",
    "    else: # add colon\n",
    "        return False # change from string to bool"
   ]
  },
  {
   "cell_type": "code",
   "execution_count": 2,
   "id": "beb894bf-1396-430d-8e51-fcce44e96b53",
   "metadata": {},
   "outputs": [],
   "source": [
    "assert voting_age(17) == 'Almost there'"
   ]
  },
  {
   "cell_type": "code",
   "execution_count": 3,
   "id": "d42e21c2-b4ab-4c8c-9215-4d5e69f9ca9c",
   "metadata": {},
   "outputs": [],
   "source": [
    "assert voting_age(18) == True"
   ]
  },
  {
   "cell_type": "code",
   "execution_count": 4,
   "id": "e9e7a236-1794-4478-86f3-d7212592a81d",
   "metadata": {},
   "outputs": [],
   "source": [
    "assert voting_age(4) == False"
   ]
  },
  {
   "cell_type": "markdown",
   "id": "643b4a83-5a0f-49b9-9893-30b093878c63",
   "metadata": {},
   "source": [
    "## Question 2\n",
    "Write a number guessing game that asks a user to pick a number from 0 to 10. You as the programmer can pick the correct number. If the user gets the guess wrong, they are prompted again until they answer correctly. If the user guesses correctly, then the code will print \"Correct!\" Save the previous guesses and print them all after the user guesses the correct answer."
   ]
  },
  {
   "cell_type": "code",
   "execution_count": 5,
   "id": "a995567c-8df5-4528-afb8-e99ef939efb2",
   "metadata": {},
   "outputs": [],
   "source": [
    "def guessing_game():\n",
    "    answer = 5\n",
    "    guesses = []\n",
    "    guess = 0 # set up guess variable here to start, otherwise `while` loop below will not work\n",
    "    \n",
    "    while guess != answer:\n",
    "        guess = input('Enter a number from 0 to 10: ')\n",
    "        guess = int(guess)\n",
    "        if guess == answer:\n",
    "            print('Correct!')\n",
    "            print('Here are your previous guesses:')\n",
    "            print(guesses)\n",
    "        else:\n",
    "            guesses.append(guess)"
   ]
  },
  {
   "cell_type": "code",
   "execution_count": 6,
   "id": "f16eb724-f96a-42d8-b966-03d328037b5e",
   "metadata": {},
   "outputs": [],
   "source": [
    "# guessing_game()"
   ]
  },
  {
   "cell_type": "markdown",
   "id": "7660d27e-aa1d-4965-b201-bc57924de1f4",
   "metadata": {},
   "source": [
    "## Question 3\n",
    "Write a function `teenager` that tells a user if a given age counts as a teenager."
   ]
  },
  {
   "cell_type": "code",
   "execution_count": 7,
   "id": "918a06cb-8578-4ebc-9adb-0184015675dc",
   "metadata": {},
   "outputs": [],
   "source": [
    "def teenager(age):\n",
    "    if 13 <= age < 20:\n",
    "        return True\n",
    "    else:\n",
    "        return False"
   ]
  },
  {
   "cell_type": "code",
   "execution_count": 8,
   "id": "2e1954af-2b58-4387-a199-56fe5f333151",
   "metadata": {},
   "outputs": [
    {
     "data": {
      "text/plain": [
       "True"
      ]
     },
     "execution_count": 8,
     "metadata": {},
     "output_type": "execute_result"
    }
   ],
   "source": [
    "teenager(13)"
   ]
  },
  {
   "cell_type": "code",
   "execution_count": 9,
   "id": "5657beed-5635-4d09-82a9-27a8fc9d5aa8",
   "metadata": {},
   "outputs": [
    {
     "data": {
      "text/plain": [
       "False"
      ]
     },
     "execution_count": 9,
     "metadata": {},
     "output_type": "execute_result"
    }
   ],
   "source": [
    "teenager(12)"
   ]
  },
  {
   "cell_type": "code",
   "execution_count": 10,
   "id": "0b89bc60-32b1-4313-92c2-b61a74779d55",
   "metadata": {},
   "outputs": [
    {
     "data": {
      "text/plain": [
       "True"
      ]
     },
     "execution_count": 10,
     "metadata": {},
     "output_type": "execute_result"
    }
   ],
   "source": [
    "teenager(19.4)"
   ]
  },
  {
   "cell_type": "code",
   "execution_count": 11,
   "id": "96921f1c-22b3-4be8-94c4-dce266d3b91d",
   "metadata": {},
   "outputs": [
    {
     "data": {
      "text/plain": [
       "False"
      ]
     },
     "execution_count": 11,
     "metadata": {},
     "output_type": "execute_result"
    }
   ],
   "source": [
    "teenager(20)"
   ]
  },
  {
   "cell_type": "code",
   "execution_count": 12,
   "id": "977d121a-d8b3-4419-8b75-d74d49b8aba8",
   "metadata": {},
   "outputs": [],
   "source": [
    "assert teenager(19.4) == True"
   ]
  },
  {
   "cell_type": "code",
   "execution_count": 13,
   "id": "11972874-fdea-4f9c-94cd-b58bf5dee3cd",
   "metadata": {},
   "outputs": [],
   "source": [
    "assert teenager(20) == False"
   ]
  },
  {
   "cell_type": "markdown",
   "id": "75107a8f-c3f6-4c5e-8feb-4d542fda11b4",
   "metadata": {},
   "source": [
    "## Question 4\n",
    "\n",
    "Write a function called `letter_grade` that takes in a number between 0 and 100 and returns a letter grade.\n"
   ]
  },
  {
   "cell_type": "code",
   "execution_count": 14,
   "id": "bfabb08e-4064-40ed-a6de-70ad266204ce",
   "metadata": {},
   "outputs": [],
   "source": [
    "def letter_grade(score):\n",
    "    if score >= 90:\n",
    "        return 'A'\n",
    "    elif score >= 80:\n",
    "        return 'B'\n",
    "    elif score >= 70:\n",
    "        return 'C'\n",
    "    elif score >= 60:\n",
    "        return 'D'\n",
    "    else:\n",
    "        return 'F'"
   ]
  },
  {
   "cell_type": "code",
   "execution_count": 15,
   "id": "94e249ed-fb5c-4d39-baaf-fbb6b70f9d74",
   "metadata": {},
   "outputs": [
    {
     "data": {
      "text/plain": [
       "'A'"
      ]
     },
     "execution_count": 15,
     "metadata": {},
     "output_type": "execute_result"
    }
   ],
   "source": [
    "letter_grade(99)"
   ]
  },
  {
   "cell_type": "code",
   "execution_count": 16,
   "id": "58ea56fd-8788-49fa-9668-a87b3ea28252",
   "metadata": {},
   "outputs": [
    {
     "data": {
      "text/plain": [
       "'F'"
      ]
     },
     "execution_count": 16,
     "metadata": {},
     "output_type": "execute_result"
    }
   ],
   "source": [
    "letter_grade(59.9)"
   ]
  },
  {
   "cell_type": "code",
   "execution_count": 17,
   "id": "22bf9936-bd99-4277-bd76-861cfa5f7b80",
   "metadata": {},
   "outputs": [],
   "source": [
    "assert letter_grade(99) == 'A'"
   ]
  },
  {
   "cell_type": "code",
   "execution_count": 18,
   "id": "1c76930c-dc57-4eb4-b84b-772db4f5a183",
   "metadata": {},
   "outputs": [],
   "source": [
    "assert letter_grade(59.9) == 'F'"
   ]
  },
  {
   "cell_type": "markdown",
   "id": "c4754cf7-49de-47dc-b62d-0a7ecf1e4244",
   "metadata": {},
   "source": [
    "## Question 5\n",
    "\n",
    "Write a function called `parity` that tells us if an argument is odd, even, or neither."
   ]
  },
  {
   "cell_type": "code",
   "execution_count": 19,
   "id": "884c7dbd-bfb4-4384-884f-6dbf060427c8",
   "metadata": {},
   "outputs": [],
   "source": [
    "def parity(n):\n",
    "    if type(n) != int:\n",
    "        return 'neither'\n",
    "    elif n % 2: # could also do `elif n % 2 == 0: return 'even'`\n",
    "        return 'odd'\n",
    "    else:\n",
    "        return 'even'"
   ]
  },
  {
   "cell_type": "code",
   "execution_count": 20,
   "id": "3e2c3c36-b05c-40ba-93a4-5e70dd3a2c04",
   "metadata": {},
   "outputs": [
    {
     "data": {
      "text/plain": [
       "'even'"
      ]
     },
     "execution_count": 20,
     "metadata": {},
     "output_type": "execute_result"
    }
   ],
   "source": [
    "parity(2)"
   ]
  },
  {
   "cell_type": "code",
   "execution_count": 21,
   "id": "7d56b89b-7c06-4654-b4e0-ced834ce39bc",
   "metadata": {},
   "outputs": [
    {
     "data": {
      "text/plain": [
       "'odd'"
      ]
     },
     "execution_count": 21,
     "metadata": {},
     "output_type": "execute_result"
    }
   ],
   "source": [
    "parity(3)"
   ]
  },
  {
   "cell_type": "code",
   "execution_count": 22,
   "id": "299efa42-cf5c-47d6-b735-d5565bc9abf1",
   "metadata": {},
   "outputs": [
    {
     "data": {
      "text/plain": [
       "'neither'"
      ]
     },
     "execution_count": 22,
     "metadata": {},
     "output_type": "execute_result"
    }
   ],
   "source": [
    "parity('test')"
   ]
  },
  {
   "cell_type": "code",
   "execution_count": 23,
   "id": "02ef8c1d-ba10-431b-8244-406c13845c6b",
   "metadata": {},
   "outputs": [
    {
     "data": {
      "text/plain": [
       "'odd'"
      ]
     },
     "execution_count": 23,
     "metadata": {},
     "output_type": "execute_result"
    }
   ],
   "source": [
    "parity(-3)"
   ]
  },
  {
   "cell_type": "code",
   "execution_count": 24,
   "id": "1f87ec5e-568b-4192-a733-61e0137d3f34",
   "metadata": {},
   "outputs": [
    {
     "data": {
      "text/plain": [
       "'neither'"
      ]
     },
     "execution_count": 24,
     "metadata": {},
     "output_type": "execute_result"
    }
   ],
   "source": [
    "parity(9.2)"
   ]
  },
  {
   "cell_type": "code",
   "execution_count": 25,
   "id": "df4d07bc-e3ab-49a8-a4dd-c3fcf1eacb1e",
   "metadata": {},
   "outputs": [],
   "source": [
    "assert parity('test') == 'neither'"
   ]
  },
  {
   "cell_type": "code",
   "execution_count": 26,
   "id": "8647d052-56e8-4280-b381-b7eaeb25816a",
   "metadata": {},
   "outputs": [],
   "source": [
    "assert parity(9.2) == 'neither'"
   ]
  },
  {
   "cell_type": "code",
   "execution_count": 27,
   "id": "7025d595-0577-4bb6-9018-f868dfdebbc7",
   "metadata": {},
   "outputs": [],
   "source": [
    "assert parity(3) == 'odd'"
   ]
  },
  {
   "cell_type": "markdown",
   "id": "de7e05b2-a828-4e70-afb0-70099d945f0e",
   "metadata": {},
   "source": [
    "## Question 6 \n",
    "\n",
    "FizzBuzz is a CLASSIC exercise. Write a loop that prints out numbers from 0 to 100, but replaces any number divisible by 3 with \"fizz\" and any number divisible by 5 with the \"buzz\".\n",
    "\n",
    "Hint: You'll be using the modulo operator.\n",
    "\n",
    "Extra credit: For a number that is divisible by both 3 and 5, replace with \"fizz buzz\"."
   ]
  },
  {
   "cell_type": "code",
   "execution_count": 28,
   "id": "befabb02-6eb6-4d36-8933-bc71a1e0e9a9",
   "metadata": {},
   "outputs": [
    {
     "name": "stdout",
     "output_type": "stream",
     "text": [
      "fizz buzz\n",
      "1\n",
      "2\n",
      "fizz\n",
      "4\n",
      "buzz\n",
      "fizz\n",
      "7\n",
      "8\n",
      "fizz\n",
      "buzz\n",
      "11\n",
      "fizz\n",
      "13\n",
      "14\n",
      "fizz buzz\n",
      "16\n",
      "17\n",
      "fizz\n",
      "19\n",
      "buzz\n",
      "fizz\n",
      "22\n",
      "23\n",
      "fizz\n",
      "buzz\n",
      "26\n",
      "fizz\n",
      "28\n",
      "29\n",
      "fizz buzz\n",
      "31\n",
      "32\n",
      "fizz\n",
      "34\n",
      "buzz\n",
      "fizz\n",
      "37\n",
      "38\n",
      "fizz\n",
      "buzz\n",
      "41\n",
      "fizz\n",
      "43\n",
      "44\n",
      "fizz buzz\n",
      "46\n",
      "47\n",
      "fizz\n",
      "49\n",
      "buzz\n",
      "fizz\n",
      "52\n",
      "53\n",
      "fizz\n",
      "buzz\n",
      "56\n",
      "fizz\n",
      "58\n",
      "59\n",
      "fizz buzz\n",
      "61\n",
      "62\n",
      "fizz\n",
      "64\n",
      "buzz\n",
      "fizz\n",
      "67\n",
      "68\n",
      "fizz\n",
      "buzz\n",
      "71\n",
      "fizz\n",
      "73\n",
      "74\n",
      "fizz buzz\n",
      "76\n",
      "77\n",
      "fizz\n",
      "79\n",
      "buzz\n",
      "fizz\n",
      "82\n",
      "83\n",
      "fizz\n",
      "buzz\n",
      "86\n",
      "fizz\n",
      "88\n",
      "89\n",
      "fizz buzz\n",
      "91\n",
      "92\n",
      "fizz\n",
      "94\n",
      "buzz\n",
      "fizz\n",
      "97\n",
      "98\n",
      "fizz\n",
      "buzz\n"
     ]
    }
   ],
   "source": [
    "for n in range(0, 101):\n",
    "    if n % 15 == 0:\n",
    "        print('fizz buzz')\n",
    "    elif n % 3 == 0:\n",
    "        print('fizz')\n",
    "    elif n % 5 == 0:\n",
    "        print('buzz')\n",
    "    else:\n",
    "        print(n)"
   ]
  },
  {
   "cell_type": "code",
   "execution_count": null,
   "id": "fe20c731-2a50-4647-97a5-a650c3c91eb3",
   "metadata": {},
   "outputs": [],
   "source": []
  }
 ],
 "metadata": {
  "kernelspec": {
   "display_name": "Python 3 (ipykernel)",
   "language": "python",
   "name": "python3"
  },
  "language_info": {
   "codemirror_mode": {
    "name": "ipython",
    "version": 3
   },
   "file_extension": ".py",
   "mimetype": "text/x-python",
   "name": "python",
   "nbconvert_exporter": "python",
   "pygments_lexer": "ipython3",
   "version": "3.8.17"
  }
 },
 "nbformat": 4,
 "nbformat_minor": 5
}
