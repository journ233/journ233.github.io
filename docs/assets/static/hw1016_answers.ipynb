{
 "cells": [
  {
   "cell_type": "markdown",
   "id": "6e4e528f-5f53-4cde-bbcb-7b636639ebf0",
   "metadata": {},
   "source": [
    "# Review Homework 1016"
   ]
  },
  {
   "cell_type": "markdown",
   "id": "c3e867fd-d2cc-4377-ae5c-7d91425d7c63",
   "metadata": {},
   "source": [
    "## Question 3\n",
    "Using **list comprehension**, rewrite the following so that you can set the variable `letters` in one line of code:\n",
    "\n",
    "```python\n",
    "letters = []\n",
    "for letter in ['a', 'b', 'c', 'd', 'e']:\n",
    "    letters.append(letter.upper())\n",
    "```"
   ]
  },
  {
   "cell_type": "code",
   "execution_count": 1,
   "id": "dca352b0-e823-4394-8fc8-3b7e478dd7b2",
   "metadata": {},
   "outputs": [
    {
     "data": {
      "text/plain": [
       "['A', 'B', 'C', 'D', 'E']"
      ]
     },
     "execution_count": 1,
     "metadata": {},
     "output_type": "execute_result"
    }
   ],
   "source": [
    "letters = [letter.upper() for letter in ['a', 'b', 'c', 'd', 'e']]\n",
    "letters"
   ]
  },
  {
   "cell_type": "markdown",
   "id": "7bd65bae",
   "metadata": {},
   "source": [
    "I will take off points if you did not use list comprehension."
   ]
  },
  {
   "cell_type": "markdown",
   "id": "db1b99a7-b2a3-4e42-8947-5b17bf83c97a",
   "metadata": {
    "tags": []
   },
   "source": [
    "## Question 4\n",
    "\n",
    "Using **list comprehension**, write a **function** called `ages` that takes in 1) a list of birth years and 2) a year, then **returns a list** of the ages for that year in integers (assuming their birthdate is January 1).\n",
    "\n",
    "Example to test:\n",
    "```python\n",
    ">>> ages(2022, [1780, 1993, 2022, 2049])\n",
    "[242, 29, 0, -27]\n",
    "```"
   ]
  },
  {
   "cell_type": "code",
   "execution_count": 2,
   "id": "27a1a1bd-9dbf-4fb6-85e0-3951225448f8",
   "metadata": {},
   "outputs": [
    {
     "data": {
      "text/plain": [
       "[243, 30, 1, -26]"
      ]
     },
     "execution_count": 2,
     "metadata": {},
     "output_type": "execute_result"
    }
   ],
   "source": [
    "def ages(start_year, birth_years):\n",
    "    return [start_year - year for year in birth_years]\n",
    "    \n",
    "ages(2023, [1780, 1993, 2022, 2049])"
   ]
  },
  {
   "cell_type": "code",
   "execution_count": 17,
   "id": "225c630f",
   "metadata": {},
   "outputs": [],
   "source": [
    "assert ages(2023, [1780, 1993, 2022, 2049]) == [243, 30, 1, -26]"
   ]
  },
  {
   "cell_type": "markdown",
   "id": "44ee740b",
   "metadata": {},
   "source": [
    "I will take off points if you did not use list comprehension."
   ]
  },
  {
   "cell_type": "markdown",
   "id": "4d56cabf-fa85-4ac5-abbf-680d40f34762",
   "metadata": {
    "tags": []
   },
   "source": [
    "## Question 5\n",
    "\n",
    "Write a `unique_characters()` **function** that takes in a string and **returns** only the unique characters, sorted alphabetically. If the function is called with an empty string, the program should return an error message of your choice.\n",
    "\n",
    "Examples to test:\n",
    "```python\n",
    ">>> unique_characters('apple')\n",
    "['a', 'e', 'p', 'l']\n",
    "\n",
    "# Yes, I got the order of this first example wrong! \n",
    "# It should be ['a', 'e', 'l', 'p']\n",
    "# +1 extra credit to anyone who pointed it out.\n",
    "\n",
    ">>> unique_characters('apPle')\n",
    "['P', 'a', 'e', 'l', 'p']\n",
    "\n",
    ">>> unique_characters('hello')\n",
    "['e', 'h', 'l', 'o']\n",
    "\n",
    ">>> unique_characters('cup')\n",
    "['c', 'p', 'u']\n",
    "\n",
    ">>> unique_characters('')\n",
    "'Error!'\n",
    "```"
   ]
  },
  {
   "cell_type": "code",
   "execution_count": 18,
   "id": "bd6708f9-dcb5-44d0-9a2d-153259336b57",
   "metadata": {},
   "outputs": [],
   "source": [
    "def unique_characters(phrase):\n",
    "    if len(phrase) == 0:\n",
    "        return 'Error!'\n",
    "    else:\n",
    "        return sorted(set(phrase))"
   ]
  },
  {
   "cell_type": "code",
   "execution_count": 4,
   "id": "14632052",
   "metadata": {},
   "outputs": [
    {
     "data": {
      "text/plain": [
       "['a', 'e', 'l', 'p']"
      ]
     },
     "execution_count": 4,
     "metadata": {},
     "output_type": "execute_result"
    }
   ],
   "source": [
    "unique_characters('apple')"
   ]
  },
  {
   "cell_type": "code",
   "execution_count": 5,
   "id": "114ba449",
   "metadata": {},
   "outputs": [
    {
     "data": {
      "text/plain": [
       "['P', 'a', 'e', 'l', 'p']"
      ]
     },
     "execution_count": 5,
     "metadata": {},
     "output_type": "execute_result"
    }
   ],
   "source": [
    "unique_characters('apPle')"
   ]
  },
  {
   "cell_type": "code",
   "execution_count": 6,
   "id": "1249a4ef",
   "metadata": {},
   "outputs": [
    {
     "data": {
      "text/plain": [
       "['e', 'h', 'l', 'o']"
      ]
     },
     "execution_count": 6,
     "metadata": {},
     "output_type": "execute_result"
    }
   ],
   "source": [
    "unique_characters('hello')"
   ]
  },
  {
   "cell_type": "code",
   "execution_count": 7,
   "id": "f948fbf7",
   "metadata": {},
   "outputs": [
    {
     "data": {
      "text/plain": [
       "['c', 'p', 'u']"
      ]
     },
     "execution_count": 7,
     "metadata": {},
     "output_type": "execute_result"
    }
   ],
   "source": [
    "unique_characters('cup')"
   ]
  },
  {
   "cell_type": "code",
   "execution_count": 8,
   "id": "c6e5d4bc",
   "metadata": {},
   "outputs": [
    {
     "data": {
      "text/plain": [
       "'Error!'"
      ]
     },
     "execution_count": 8,
     "metadata": {},
     "output_type": "execute_result"
    }
   ],
   "source": [
    "unique_characters('')"
   ]
  },
  {
   "cell_type": "code",
   "execution_count": 20,
   "id": "c7b28894-aa8a-4ae9-94d4-43b16fa476c5",
   "metadata": {},
   "outputs": [],
   "source": [
    "assert unique_characters('apple') == ['a', 'e', 'l', 'p']"
   ]
  },
  {
   "cell_type": "markdown",
   "id": "5e123ae8-6424-44a4-a648-61f7365ce5b3",
   "metadata": {},
   "source": [
    "## Question 6\n",
    "Create a **function** called `vowel_count()` that accepts a string and **returns the number** of vowels in that string.  Include repeated vowels. (Vowels are `a`, `e`, `i`, `o`, `u` — don't include `y`.)\n",
    "\n",
    "Examples to test:\n",
    "```python\n",
    ">>> vowel_count('Python is cool')\n",
    "4\n",
    "\n",
    ">>> vowel_count('How many vowels are in this sentence?')\n",
    "11\n",
    "\n",
    "# this one uses a capital for `Are`\n",
    ">>> vowel_count('How many vowels Are in this sentence?') \n",
    "11\n",
    "```"
   ]
  },
  {
   "cell_type": "code",
   "execution_count": 9,
   "id": "7bc0cf4b-e715-4169-9195-bbb58c9147e1",
   "metadata": {},
   "outputs": [],
   "source": [
    "def vowel_count(phrase):\n",
    "    p = list(phrase.lower())\n",
    "    vowels = ['a', 'e', 'i', 'o', 'u']\n",
    "    # vowels = set('aeiou') # mod inspired by julietta\n",
    "    count = 0\n",
    "    for letter in p:\n",
    "        if letter in vowels:\n",
    "        # if letter in 'aeiou': # mod inspired by ananya\n",
    "            count = count + 1\n",
    "    return count"
   ]
  },
  {
   "cell_type": "code",
   "execution_count": 10,
   "id": "0ebc8eec",
   "metadata": {},
   "outputs": [
    {
     "data": {
      "text/plain": [
       "4"
      ]
     },
     "execution_count": 10,
     "metadata": {},
     "output_type": "execute_result"
    }
   ],
   "source": [
    "vowel_count('Python is cool')"
   ]
  },
  {
   "cell_type": "code",
   "execution_count": 11,
   "id": "909a7c09",
   "metadata": {},
   "outputs": [
    {
     "data": {
      "text/plain": [
       "11"
      ]
     },
     "execution_count": 11,
     "metadata": {},
     "output_type": "execute_result"
    }
   ],
   "source": [
    "vowel_count('How many vowels are in this sentence?')"
   ]
  },
  {
   "cell_type": "code",
   "execution_count": 12,
   "id": "bc14af62",
   "metadata": {},
   "outputs": [
    {
     "data": {
      "text/plain": [
       "11"
      ]
     },
     "execution_count": 12,
     "metadata": {},
     "output_type": "execute_result"
    }
   ],
   "source": [
    "vowel_count('How many vowels Are in this sentence?') "
   ]
  },
  {
   "cell_type": "code",
   "execution_count": 23,
   "id": "e44ef62e-2763-464e-8e5e-8836f534bfdb",
   "metadata": {},
   "outputs": [],
   "source": [
    "assert vowel_count('Python is cool') == 4"
   ]
  },
  {
   "cell_type": "markdown",
   "id": "af425898",
   "metadata": {},
   "source": [
    "### Alternatives inspired by former students"
   ]
  },
  {
   "cell_type": "code",
   "execution_count": 13,
   "id": "d20e931c",
   "metadata": {},
   "outputs": [],
   "source": [
    "# alternative inspired by junyao\n",
    "# instead of using a counter, append letters to a list and return length of list\n",
    "def vowel_count(n):\n",
    "    letters_list = list(n)\n",
    "    vowels_common = []\n",
    "    for l in letters_list:\n",
    "        if l in set('aeiou'):\n",
    "            vowels_common.append(l)    \n",
    "    return(len(vowels_common))"
   ]
  },
  {
   "cell_type": "code",
   "execution_count": 14,
   "id": "99989818",
   "metadata": {},
   "outputs": [],
   "source": [
    "# alternative inspired by aria\n",
    "# list comprehension with a conditional!\n",
    "def vowel_count(phrase):\n",
    "    vowels = ['a', 'e', 'i', 'o', 'u']\n",
    "    return len([char for char in phrase.lower() if char in vowels])"
   ]
  },
  {
   "cell_type": "code",
   "execution_count": 15,
   "id": "407efe95",
   "metadata": {},
   "outputs": [
    {
     "data": {
      "text/plain": [
       "11"
      ]
     },
     "execution_count": 15,
     "metadata": {},
     "output_type": "execute_result"
    }
   ],
   "source": [
    "vowel_count('How many vowels are in this sentence?')"
   ]
  },
  {
   "cell_type": "markdown",
   "id": "dac7c063-662a-474e-96e8-92f6d1bc1856",
   "metadata": {},
   "source": [
    "## Question 5 (revisited for Errors section)"
   ]
  },
  {
   "cell_type": "code",
   "execution_count": 35,
   "id": "e4401b69-09e3-4d88-8088-a23227da5e03",
   "metadata": {},
   "outputs": [],
   "source": [
    "def unique_characters(phrase):\n",
    "    try:\n",
    "        return sorted(set(phrase))\n",
    "    except:\n",
    "        return 'Something went wrong. Are you sure you entered a phrase?'"
   ]
  },
  {
   "cell_type": "code",
   "execution_count": 36,
   "id": "6c6bc5b4-e4fc-4b8e-8bf8-b35b8fabb11d",
   "metadata": {},
   "outputs": [
    {
     "data": {
      "text/plain": [
       "'Something went wrong. Are you sure you entered a phrase?'"
      ]
     },
     "execution_count": 36,
     "metadata": {},
     "output_type": "execute_result"
    }
   ],
   "source": [
    "unique_characters(123)"
   ]
  },
  {
   "cell_type": "code",
   "execution_count": 37,
   "id": "d4a9b007-8dff-4ad5-bc87-9c1b87962f0b",
   "metadata": {},
   "outputs": [
    {
     "data": {
      "text/plain": [
       "['H', 'e', 'l', 'o']"
      ]
     },
     "execution_count": 37,
     "metadata": {},
     "output_type": "execute_result"
    }
   ],
   "source": [
    "unique_characters('Hello')"
   ]
  },
  {
   "cell_type": "code",
   "execution_count": 38,
   "id": "97ee4c1e-0616-495b-9ed6-53a1ef15ca19",
   "metadata": {},
   "outputs": [
    {
     "data": {
      "text/plain": [
       "[' ', 'O', 'S', 'h', 'o']"
      ]
     },
     "execution_count": 38,
     "metadata": {},
     "output_type": "execute_result"
    }
   ],
   "source": [
    "unique_characters('Soo Oh')"
   ]
  },
  {
   "cell_type": "code",
   "execution_count": null,
   "id": "bb5f7daa-d5d8-42bb-ac9d-2a26cfa12383",
   "metadata": {},
   "outputs": [],
   "source": []
  }
 ],
 "metadata": {
  "kernelspec": {
   "display_name": "Python 3 (ipykernel)",
   "language": "python",
   "name": "python3"
  },
  "language_info": {
   "codemirror_mode": {
    "name": "ipython",
    "version": 3
   },
   "file_extension": ".py",
   "mimetype": "text/x-python",
   "name": "python",
   "nbconvert_exporter": "python",
   "pygments_lexer": "ipython3",
   "version": "3.8.17"
  },
  "vscode": {
   "interpreter": {
    "hash": "fb04f89b61a62c03d47bf47357bc88692aa1a75ad45736fa559ef9e95df90447"
   }
  }
 },
 "nbformat": 4,
 "nbformat_minor": 5
}
